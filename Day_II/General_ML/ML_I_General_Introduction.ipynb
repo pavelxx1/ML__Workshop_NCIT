{
 "cells": [
  {
   "cell_type": "markdown",
   "metadata": {},
   "source": [
    "# Basic Principles of Machine Learning"
   ]
  },
  {
   "cell_type": "markdown",
   "metadata": {},
   "source": [
    "<img src=\"figs/traditional_vs_ML.jpg\" width=\"70%\">"
   ]
  },
  {
   "cell_type": "markdown",
   "metadata": {},
   "source": [
    "## What does the figure above mean exactly?"
   ]
  },
  {
   "cell_type": "markdown",
   "metadata": {},
   "source": [
    "#### Let us demonstrate it using a simple regression problem."
   ]
  },
  {
   "cell_type": "code",
   "execution_count": null,
   "metadata": {},
   "outputs": [],
   "source": [
    "%matplotlib inline\n",
    "import numpy as np\n",
    "import matplotlib.pyplot as plt\n",
    "\n",
    "# use seaborn for plot defaults\n",
    "# this can be safely commented out\n",
    "import seaborn; seaborn.set()"
   ]
  },
  {
   "cell_type": "markdown",
   "metadata": {},
   "source": [
    "First, let us generate some data!"
   ]
  },
  {
   "cell_type": "code",
   "execution_count": null,
   "metadata": {},
   "outputs": [],
   "source": [
    "x = np.arange(10)\n",
    "y = 2 * x + 1"
   ]
  },
  {
   "cell_type": "code",
   "execution_count": null,
   "metadata": {},
   "outputs": [],
   "source": [
    "print(\"X values: \", x)\n",
    "print(\"Corresponding Y values: \", y)"
   ]
  },
  {
   "cell_type": "code",
   "execution_count": null,
   "metadata": {},
   "outputs": [],
   "source": [
    "plt.plot(x, y, '--r');"
   ]
  },
  {
   "cell_type": "markdown",
   "metadata": {},
   "source": [
    "Here we'll dive into the basic principles of machine learning, and how to\n",
    "utilize them via the Scikit-Learn API."
   ]
  },
  {
   "cell_type": "markdown",
   "metadata": {},
   "source": [
    "## The Scikit-learn Estimator Object\n",
    "\n",
    "Every algorithm is exposed in scikit-learn via an ''Estimator'' object. For instance a linear regression is implemented as so:"
   ]
  },
  {
   "cell_type": "code",
   "execution_count": null,
   "metadata": {},
   "outputs": [],
   "source": [
    "from sklearn.linear_model import LinearRegression"
   ]
  },
  {
   "cell_type": "code",
   "execution_count": null,
   "metadata": {},
   "outputs": [],
   "source": [
    "LinearRegression?"
   ]
  },
  {
   "cell_type": "markdown",
   "metadata": {},
   "source": [
    "**Estimator parameters**: All the parameters of an estimator can be set when it is instantiated, and have suitable default values:"
   ]
  },
  {
   "cell_type": "code",
   "execution_count": null,
   "metadata": {},
   "outputs": [],
   "source": [
    "model = LinearRegression(normalize=True)\n",
    "print(model.normalize)"
   ]
  },
  {
   "cell_type": "code",
   "execution_count": null,
   "metadata": {},
   "outputs": [],
   "source": [
    "print(model)"
   ]
  },
  {
   "cell_type": "markdown",
   "metadata": {},
   "source": [
    "**Estimated Model parameters**: When data is *fit* with an estimator, parameters are estimated from the data at hand. All the estimated parameters are attributes of the estimator object ending by an underscore:"
   ]
  },
  {
   "cell_type": "code",
   "execution_count": null,
   "metadata": {},
   "outputs": [],
   "source": [
    "# The input data for sklearn is 2D: (samples == 3 x features == 1)\n",
    "X = x[:, np.newaxis]\n",
    "print(X)\n",
    "print(y)"
   ]
  },
  {
   "cell_type": "code",
   "execution_count": null,
   "metadata": {},
   "outputs": [],
   "source": [
    "# fit the model on our data\n",
    "model.fit(X, y)"
   ]
  },
  {
   "cell_type": "code",
   "execution_count": null,
   "metadata": {},
   "outputs": [],
   "source": [
    "dir(model)"
   ]
  },
  {
   "cell_type": "code",
   "execution_count": null,
   "metadata": {},
   "outputs": [],
   "source": [
    "# underscore at the end indicates a fit parameter\n",
    "print(model.coef_)\n",
    "print(model.intercept_)"
   ]
  },
  {
   "cell_type": "markdown",
   "metadata": {},
   "source": [
    "The model found a line with a slope 2 and intercept 1, as we'd expect."
   ]
  },
  {
   "cell_type": "markdown",
   "metadata": {},
   "source": [
    "### Why did we get perfect estimates?"
   ]
  },
  {
   "cell_type": "markdown",
   "metadata": {},
   "source": [
    "Now, let us add some noise to our data:"
   ]
  },
  {
   "cell_type": "code",
   "execution_count": null,
   "metadata": {},
   "outputs": [],
   "source": [
    "x = np.arange(200)\n",
    "y = 2 * x + 1 + np.random.randn(200)"
   ]
  },
  {
   "cell_type": "code",
   "execution_count": null,
   "metadata": {},
   "outputs": [],
   "source": [
    "# print(\"X values: \", x)\n",
    "# print(\"Corresponding Y values: \", y)"
   ]
  },
  {
   "cell_type": "code",
   "execution_count": null,
   "metadata": {},
   "outputs": [],
   "source": [
    "plt.plot(x, y, '+r');"
   ]
  },
  {
   "cell_type": "code",
   "execution_count": null,
   "metadata": {},
   "outputs": [],
   "source": [
    "X = x[:, np.newaxis]\n",
    "model.fit(X,y)"
   ]
  },
  {
   "cell_type": "code",
   "execution_count": null,
   "metadata": {},
   "outputs": [],
   "source": [
    "# underscore at the end indicates a fit parameter\n",
    "print(model.coef_)\n",
    "print(model.intercept_)"
   ]
  },
  {
   "cell_type": "code",
   "execution_count": null,
   "metadata": {},
   "outputs": [],
   "source": [
    "theta = np.array([[model.coef_[0]],[model.intercept_]])\n",
    "# print(theta)\n",
    "\n",
    "X_new = np.array([[0],[200]])\n",
    "# print(X_new)\n",
    "\n",
    "X_new_b = np.c_[np.ones((2,1)),X_new]\n",
    "# print(X_new_b)\n",
    "\n",
    "y_est = X_new_b.dot(theta)\n",
    "# print(y_est)"
   ]
  },
  {
   "cell_type": "code",
   "execution_count": null,
   "metadata": {},
   "outputs": [],
   "source": [
    "plt.plot(X_new,y_est,'b-')\n",
    "plt.plot(X,y,'r+')\n",
    "plt.xlabel(\"$x$\", fontsize=18)\n",
    "plt.ylabel(\"$y$\", rotation=0, fontsize=18);"
   ]
  },
  {
   "cell_type": "markdown",
   "metadata": {},
   "source": [
    "What we saw above was an example of **model fitting**. \n",
    "\n",
    "**General Setting:**\n",
    "\n",
    "(Given a sample of training data, fit a (mathematical) model)  i.e. choose a “suitable” mathematical function and determine “appropriate” parameters from the data"
   ]
  },
  {
   "cell_type": "markdown",
   "metadata": {},
   "source": [
    "#### Problems often encountered during model fitting:"
   ]
  },
  {
   "cell_type": "markdown",
   "metadata": {},
   "source": [
    "**Overfitting** : Matches data too closely, fails to generalize.\n",
    "\n",
    "**Underfitting** : Doesn't match the data closely enough."
   ]
  },
  {
   "cell_type": "markdown",
   "metadata": {},
   "source": [
    "What we aim for is a well-fitted model that represents our data accurately."
   ]
  },
  {
   "cell_type": "markdown",
   "metadata": {},
   "source": [
    "Once we have a well-fitted model, we can use the fitted model for **generalization**, e.g. for\n",
    "\n",
    "- **inference**\n",
    "\n",
    "- **reasoning**\n",
    "\n",
    "- **predictions**\n",
    "\n",
    "- **decision making**\n",
    "\n",
    "\n",
    "on **test data** i.e. on previously unseen data, i.e. in practice"
   ]
  },
  {
   "cell_type": "markdown",
   "metadata": {},
   "source": [
    "**Aim:** Recognize pattern\n",
    "    \n",
    "**Steps:**\n",
    "    \n",
    "1. Extract feature from pattern\n",
    "2. Feature vector in feature space\n",
    "3. Blobs or categories in feature space/ vector space\n",
    "4. Decide a boundary in feature space (line / function)\n",
    "5. Predict new examples using which side of the boundary does the item fall in the feature space\n",
    "\n",
    "6. Our task is to come up with boundaries for points between different classes\n"
   ]
  },
  {
   "cell_type": "markdown",
   "metadata": {},
   "source": [
    "## Three components of ML"
   ]
  },
  {
   "cell_type": "markdown",
   "metadata": {},
   "source": [
    "### 1. Representation\n",
    "### 2. Evaluation\n",
    "### 3. Optimization"
   ]
  },
  {
   "cell_type": "markdown",
   "metadata": {},
   "source": [
    "<img src=\"figs/pipeline.jpg\" width=\"90%\">"
   ]
  },
  {
   "cell_type": "markdown",
   "metadata": {},
   "source": [
    "#### How to choose a model?\n",
    "\n",
    "Consider the following aspects:\n",
    "\n",
    "- Nature of the data\n",
    "\t(categorical, relational, vectorial…)\n",
    "\n",
    "- Problem to be solved\n",
    "\t(forecasting, classification, ranking…)\n",
    "    \n",
    "- Available background information\n",
    "\t(physical laws of nature, theories…)\n",
    "    \n",
    "- Computational issues\n",
    "\t(ease of implementation, runtime ...)\n",
    "\n",
    "\n",
    "#### Now, that we have decided for a model, how to fit a model?\n",
    "\n",
    "- By minimizing or maximizing an appropriate objective\n",
    "\n",
    "(many, many different methods/ criteria)\n",
    "\n",
    "1. Maximum likelihood\n",
    "2. Maximum entropy\n",
    "3. Least squares (quadratic optimization)\n",
    "4. Gradient descend\n",
    "\n",
    "\n",
    "\n",
    "#### Problems with model fitting:\n",
    "\n",
    "- The training sample may not be representative (poor generalization)\n",
    "\n",
    "- The chosen model may be too flexible, over-fitting (poor generalization)\n",
    "\n",
    "\n",
    "#### Take home messages (This is what separates data scientists from random Joe(s) who are doing machine learning) \n",
    "\n",
    "- Number of training data may impact generalization (more the better)\n",
    "\n",
    "- Number of degrees of freedom may impact generalization (fewer the better)\n",
    "\n",
    "**Note:** You should not apply algorithms blindly"
   ]
  },
  {
   "cell_type": "markdown",
   "metadata": {},
   "source": [
    "Rephrasing it slightly, the process of building/ implementing and using a ML system inovlves the following phases: "
   ]
  },
  {
   "cell_type": "markdown",
   "metadata": {},
   "source": [
    "- **training phase**\n",
    "- **test phase**\n",
    "- **application phase**"
   ]
  },
  {
   "cell_type": "markdown",
   "metadata": {},
   "source": [
    "## Three Fundamental Machine Learning problems"
   ]
  },
  {
   "cell_type": "markdown",
   "metadata": {},
   "source": [
    "<img src=\"figs/ML.png\" width=\"90%\">"
   ]
  },
  {
   "cell_type": "markdown",
   "metadata": {},
   "source": [
    "## Commonly practiced Machine Learning approaches"
   ]
  },
  {
   "cell_type": "markdown",
   "metadata": {},
   "source": [
    "<img src=\"figs/ML_branches.png\" width=\"90%\">"
   ]
  },
  {
   "cell_type": "markdown",
   "metadata": {},
   "source": [
    "<img src=\"figs/deep-learning.png\" width=\"90%\">"
   ]
  },
  {
   "cell_type": "markdown",
   "metadata": {},
   "source": [
    "## Three fundamental ML problems"
   ]
  },
  {
   "cell_type": "markdown",
   "metadata": {},
   "source": [
    "### 1. Classification\n",
    "\n",
    "### 2. Regression\n",
    "\n",
    "### 3. Clustering"
   ]
  },
  {
   "cell_type": "markdown",
   "metadata": {},
   "source": [
    "<img src=\"figs/sklearn_cheatsheet.png\" width=\"90%\">"
   ]
  }
 ],
 "metadata": {
  "kernelspec": {
   "display_name": "Python 3",
   "language": "python",
   "name": "python3"
  },
  "language_info": {
   "codemirror_mode": {
    "name": "ipython",
    "version": 3
   },
   "file_extension": ".py",
   "mimetype": "text/x-python",
   "name": "python",
   "nbconvert_exporter": "python",
   "pygments_lexer": "ipython3",
   "version": "3.7.2"
  }
 },
 "nbformat": 4,
 "nbformat_minor": 1
}
